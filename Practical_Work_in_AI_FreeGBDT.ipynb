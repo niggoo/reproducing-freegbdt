{
  "cells": [
    {
      "cell_type": "code",
      "execution_count": null,
      "metadata": {
        "colab": {
          "base_uri": "https://localhost:8080/"
        },
        "id": "STXr8xrM-q62",
        "outputId": "bab9c697-a992-44c3-ce66-b7bc3b03f5f8"
      },
      "outputs": [
        {
          "name": "stdout",
          "output_type": "stream",
          "text": [
            "Mounted at /content/drive\n"
          ]
        }
      ],
      "source": [
        "from google.colab import drive\n",
        "drive.mount('/content/drive')\n"
      ]
    },
    {
      "cell_type": "code",
      "execution_count": null,
      "metadata": {
        "id": "LDYaoDxJq5u6"
      },
      "outputs": [],
      "source": [
        "!cp -r \"/content/drive/MyDrive/Practical Work in AI/\" ."
      ]
    },
    {
      "cell_type": "code",
      "execution_count": null,
      "metadata": {
        "colab": {
          "base_uri": "https://localhost:8080/"
        },
        "id": "o71G5iXcsVs1",
        "outputId": "524bf0cc-a023-495a-8163-82c4fc2df217"
      },
      "outputs": [
        {
          "name": "stdout",
          "output_type": "stream",
          "text": [
            "/content/Practical Work in AI\n"
          ]
        }
      ],
      "source": [
        "%cd \"Practical Work in AI\""
      ]
    },
    {
      "cell_type": "code",
      "execution_count": null,
      "metadata": {
        "colab": {
          "base_uri": "https://localhost:8080/"
        },
        "id": "r6lli8D5sa4N",
        "outputId": "82e3f8e5-57d3-4149-8cd6-34cd035299bf"
      },
      "outputs": [
        {
          "name": "stdout",
          "output_type": "stream",
          "text": [
            "Looking in indexes: https://pypi.org/simple, https://us-python.pkg.dev/colab-wheels/public/simple/\n",
            "Requirement already satisfied: boto3==1.14.47 in /usr/local/lib/python3.7/dist-packages (from -r requirements.txt (line 1)) (1.14.47)\n",
            "Requirement already satisfied: botocore==1.17.58 in /usr/local/lib/python3.7/dist-packages (from -r requirements.txt (line 2)) (1.17.58)\n",
            "Requirement already satisfied: certifi==2020.6.20 in /usr/local/lib/python3.7/dist-packages (from -r requirements.txt (line 3)) (2020.6.20)\n",
            "Requirement already satisfied: chardet==3.0.4 in /usr/local/lib/python3.7/dist-packages (from -r requirements.txt (line 4)) (3.0.4)\n",
            "Requirement already satisfied: click==7.1.2 in /usr/local/lib/python3.7/dist-packages (from -r requirements.txt (line 5)) (7.1.2)\n",
            "Requirement already satisfied: docutils==0.15.2 in /usr/local/lib/python3.7/dist-packages (from -r requirements.txt (line 6)) (0.15.2)\n",
            "Requirement already satisfied: filelock==3.0.12 in /usr/local/lib/python3.7/dist-packages (from -r requirements.txt (line 7)) (3.0.12)\n",
            "Requirement already satisfied: future==0.18.2 in /usr/local/lib/python3.7/dist-packages (from -r requirements.txt (line 8)) (0.18.2)\n",
            "Requirement already satisfied: idna==2.10 in /usr/local/lib/python3.7/dist-packages (from -r requirements.txt (line 9)) (2.10)\n",
            "Requirement already satisfied: jmespath==0.10.0 in /usr/local/lib/python3.7/dist-packages (from -r requirements.txt (line 10)) (0.10.0)\n",
            "Requirement already satisfied: joblib==0.16.0 in /usr/local/lib/python3.7/dist-packages (from -r requirements.txt (line 11)) (0.16.0)\n",
            "Requirement already satisfied: lightgbm==2.3.1 in /usr/local/lib/python3.7/dist-packages (from -r requirements.txt (line 12)) (2.3.1)\n",
            "Requirement already satisfied: numpy==1.19.1 in /usr/local/lib/python3.7/dist-packages (from -r requirements.txt (line 13)) (1.19.1)\n",
            "Requirement already satisfied: packaging==20.4 in /usr/local/lib/python3.7/dist-packages (from -r requirements.txt (line 14)) (20.4)\n",
            "Requirement already satisfied: pandas==1.0.1 in /usr/local/lib/python3.7/dist-packages (from -r requirements.txt (line 15)) (1.0.1)\n",
            "Requirement already satisfied: pyparsing==2.4.7 in /usr/local/lib/python3.7/dist-packages (from -r requirements.txt (line 16)) (2.4.7)\n",
            "Requirement already satisfied: python-dateutil==2.8.1 in /usr/local/lib/python3.7/dist-packages (from -r requirements.txt (line 17)) (2.8.1)\n",
            "Requirement already satisfied: pytz==2020.1 in /usr/local/lib/python3.7/dist-packages (from -r requirements.txt (line 18)) (2020.1)\n",
            "Requirement already satisfied: regex==2020.7.14 in /usr/local/lib/python3.7/dist-packages (from -r requirements.txt (line 19)) (2020.7.14)\n",
            "Requirement already satisfied: requests==2.24.0 in /usr/local/lib/python3.7/dist-packages (from -r requirements.txt (line 20)) (2.24.0)\n",
            "Requirement already satisfied: s3transfer==0.3.3 in /usr/local/lib/python3.7/dist-packages (from -r requirements.txt (line 21)) (0.3.3)\n",
            "Requirement already satisfied: sacremoses==0.0.43 in /usr/local/lib/python3.7/dist-packages (from -r requirements.txt (line 22)) (0.0.43)\n",
            "Requirement already satisfied: scikit-learn==0.23.2 in /usr/local/lib/python3.7/dist-packages (from -r requirements.txt (line 23)) (0.23.2)\n",
            "Requirement already satisfied: scipy==1.5.2 in /usr/local/lib/python3.7/dist-packages (from -r requirements.txt (line 24)) (1.5.2)\n",
            "Requirement already satisfied: sentencepiece==0.1.91 in /usr/local/lib/python3.7/dist-packages (from -r requirements.txt (line 25)) (0.1.91)\n",
            "Requirement already satisfied: six==1.15.0 in /usr/local/lib/python3.7/dist-packages (from -r requirements.txt (line 26)) (1.15.0)\n",
            "Requirement already satisfied: threadpoolctl==2.1.0 in /usr/local/lib/python3.7/dist-packages (from -r requirements.txt (line 27)) (2.1.0)\n",
            "Requirement already satisfied: tokenizers==0.8.1rc1 in /usr/local/lib/python3.7/dist-packages (from -r requirements.txt (line 28)) (0.8.1rc1)\n",
            "Requirement already satisfied: torch==1.6.0 in /usr/local/lib/python3.7/dist-packages (from -r requirements.txt (line 29)) (1.6.0)\n",
            "Requirement already satisfied: tqdm==4.46.0 in /usr/local/lib/python3.7/dist-packages (from -r requirements.txt (line 30)) (4.46.0)\n",
            "Requirement already satisfied: transformers==3.0.2 in /usr/local/lib/python3.7/dist-packages (from -r requirements.txt (line 31)) (3.0.2)\n",
            "Requirement already satisfied: urllib3 in /usr/local/lib/python3.7/dist-packages (from -r requirements.txt (line 32)) (1.24.3)\n"
          ]
        }
      ],
      "source": [
        "!pip install -r requirements.txt"
      ]
    },
    {
      "cell_type": "markdown",
      "metadata": {
        "id": "S5NtFuNiIuoI"
      },
      "source": [
        "# CB"
      ]
    },
    {
      "cell_type": "code",
      "execution_count": null,
      "metadata": {
        "id": "lgGitPt1uYv4"
      },
      "outputs": [],
      "source": [
        "!python train_base_model.py --seed=\"7786\" --task=\"CB\" --model_path=\"roberta-large-mnli\" --tqdm"
      ]
    },
    {
      "cell_type": "code",
      "execution_count": null,
      "metadata": {
        "id": "uyfO__eiItmS"
      },
      "outputs": [],
      "source": [
        "!python train_tree_model.py --base=\"logs/CB_14080833_a92bc1\""
      ]
    },
    {
      "cell_type": "code",
      "execution_count": null,
      "metadata": {
        "id": "kthHU-xFnOfk"
      },
      "outputs": [],
      "source": [
        "!python train_base_model.py --seed=\"7786\" --task=\"CB\" --model_path=\"distilroberta-base\" --hidden_dim=768 --tqdm"
      ]
    },
    {
      "cell_type": "code",
      "execution_count": null,
      "metadata": {
        "colab": {
          "base_uri": "https://localhost:8080/"
        },
        "id": "-bk3wPvho2wm",
        "outputId": "dea41f70-0c81-4121-cdd9-1a5fb467d6f3"
      },
      "outputs": [
        {
          "name": "stdout",
          "output_type": "stream",
          "text": [
            "  0% 0/10 [00:00<?, ?it/s]Tree 0: [0.625      0.67857143 0.69642857 0.71428571 0.69642857]\n",
            " 10% 1/10 [00:02<00:26,  2.90s/it]Tree 1: [0.60714286 0.625      0.66071429 0.66071429 0.64285714]\n",
            " 20% 2/10 [00:14<00:43,  5.45s/it]Tree 2: [0.625      0.57142857 0.66071429 0.64285714 0.67857143]\n",
            " 30% 3/10 [00:38<01:17, 11.12s/it]Tree 3: [0.60714286 0.67857143 0.66071429 0.66071429 0.67857143]\n",
            " 40% 4/10 [01:16<01:54, 19.01s/it]Tree 4: [0.64285714 0.71428571 0.66071429 0.64285714 0.66071429]\n",
            " 50% 5/10 [01:56<02:07, 25.54s/it]Tree 5: [0.57142857 0.66071429 0.66071429 0.67857143 0.66071429]\n",
            " 60% 6/10 [02:45<02:10, 32.54s/it]Tree 6: [0.71428571 0.67857143 0.67857143 0.67857143 0.67857143]\n",
            " 70% 7/10 [03:47<02:03, 41.32s/it]Tree 7: [0.71428571 0.69642857 0.67857143 0.67857143 0.67857143]\n",
            " 80% 8/10 [04:53<01:37, 48.65s/it]Tree 8: [0.69642857 0.69642857 0.69642857 0.69642857 0.69642857]\n",
            " 90% 9/10 [06:06<00:55, 55.92s/it]Tree 9: [0.67857143 0.71428571 0.69642857 0.69642857 0.69642857]\n",
            "100% 10/10 [07:30<00:00, 45.07s/it]\n",
            "  0% 0/11 [00:00<?, ?it/s]NN 0: 0.5\n",
            "Regular tree 0: [0.53571429 0.57142857 0.58928571 0.60714286 0.60714286]\n",
            "  9% 1/11 [00:02<00:28,  2.86s/it]NN 1: 0.5\n",
            "Regular tree 1: [0.58928571 0.625      0.64285714 0.66071429 0.64285714]\n",
            " 18% 2/11 [00:05<00:25,  2.85s/it]NN 2: 0.5\n",
            "Regular tree 2: [0.57142857 0.64285714 0.64285714 0.71428571 0.69642857]\n",
            " 27% 3/11 [00:08<00:22,  2.84s/it]NN 3: 0.5714285714285714\n",
            "Regular tree 3: [0.69642857 0.66071429 0.67857143 0.69642857 0.69642857]\n",
            " 36% 4/11 [00:11<00:19,  2.83s/it]NN 4: 0.6071428571428571\n",
            "Regular tree 4: [0.67857143 0.625      0.64285714 0.60714286 0.625     ]\n",
            " 45% 5/11 [00:14<00:16,  2.83s/it]NN 5: 0.625\n",
            "Regular tree 5: [0.71428571 0.69642857 0.64285714 0.69642857 0.67857143]\n",
            " 55% 6/11 [00:16<00:14,  2.83s/it]NN 6: 0.7142857142857143\n",
            "Regular tree 6: [0.66071429 0.69642857 0.71428571 0.71428571 0.75      ]\n",
            " 64% 7/11 [00:19<00:11,  2.86s/it]NN 7: 0.7142857142857143\n",
            "Regular tree 7: [0.71428571 0.75       0.73214286 0.69642857 0.69642857]\n",
            " 73% 8/11 [00:22<00:08,  2.85s/it]NN 8: 0.6785714285714286\n",
            "Regular tree 8: [0.66071429 0.78571429 0.73214286 0.75       0.75      ]\n",
            " 82% 9/11 [00:25<00:05,  2.85s/it]NN 9: 0.6785714285714286\n",
            "Regular tree 9: [0.73214286 0.75       0.73214286 0.73214286 0.75      ]\n",
            " 91% 10/11 [00:28<00:02,  2.85s/it]NN 10: 0.6785714285714286\n",
            "Regular tree 10: [0.71428571 0.73214286 0.76785714 0.76785714 0.80357143]\n",
            "100% 11/11 [00:31<00:00,  2.84s/it]\n"
          ]
        }
      ],
      "source": [
        "!python train_tree_model.py --base=\"logs/CB_07092027_ea8a85\""
      ]
    },
    {
      "cell_type": "markdown",
      "metadata": {
        "id": "wz_Uo0MlI5Pn"
      },
      "source": [
        "# RTE"
      ]
    },
    {
      "cell_type": "code",
      "execution_count": null,
      "metadata": {
        "id": "Tv0qW1fUwJrM"
      },
      "outputs": [],
      "source": [
        "!python train_base_model.py --seed=\"80139\" --task=\"RTE\" --model_path=\"roberta-large-mnli\" --tqdm"
      ]
    },
    {
      "cell_type": "code",
      "execution_count": null,
      "metadata": {
        "id": "OfNEIjm1JSkw"
      },
      "outputs": [],
      "source": [
        "!python train_tree_model.py --base=\"logs/RTE_14080853_7b3e49\""
      ]
    },
    {
      "cell_type": "code",
      "execution_count": null,
      "metadata": {
        "id": "lP_9TyB1nU2G"
      },
      "outputs": [],
      "source": [
        "!python train_base_model.py --seed=\"80139\" --task=\"RTE\" --model_path=\"distilroberta-base\" --hidden_dim=768 --tqdm"
      ]
    },
    {
      "cell_type": "code",
      "execution_count": null,
      "metadata": {
        "colab": {
          "base_uri": "https://localhost:8080/"
        },
        "id": "pQE7ZFoHsvA6",
        "outputId": "ba2cfb6f-32c6-4c12-c552-4cd7f23385a0"
      },
      "outputs": [
        {
          "name": "stdout",
          "output_type": "stream",
          "text": [
            "  0% 0/10 [00:00<?, ?it/s]Tree 0: [0.51263538 0.49458484 0.46570397 0.4801444  0.49458484]\n",
            " 10% 1/10 [00:27<04:07, 27.55s/it]Tree 1: [0.4765343  0.53068592 0.53790614 0.57400722 0.54512635]\n",
            " 20% 2/10 [01:25<04:54, 36.76s/it]Tree 2: [0.4765343  0.50541516 0.50180505 0.51263538 0.54151625]\n",
            " 30% 3/10 [02:44<05:45, 49.37s/it]Tree 3: [0.52707581 0.59566787 0.62815884 0.61371841 0.62093863]\n",
            " 40% 4/10 [04:18<06:16, 62.69s/it]Tree 4: [0.64981949 0.62815884 0.64981949 0.64981949 0.64620939]\n",
            " 50% 5/10 [06:01<06:13, 74.73s/it]Tree 5: [0.66425993 0.6534296  0.64981949 0.6534296  0.67509025]\n",
            " 60% 6/10 [07:48<05:37, 84.43s/it]Tree 6: [0.66425993 0.6967509  0.70036101 0.71119134 0.68953069]\n",
            " 70% 7/10 [09:39<04:37, 92.45s/it]Tree 7: [0.6967509  0.67509025 0.68592058 0.68231047 0.68231047]\n",
            " 80% 8/10 [11:32<03:17, 98.78s/it]Tree 8: [0.6534296  0.66787004 0.67509025 0.67148014 0.67148014]\n",
            " 90% 9/10 [13:30<01:44, 104.39s/it]Tree 9: [0.69314079 0.6967509  0.67148014 0.68592058 0.70036101]\n",
            "100% 10/10 [15:31<00:00, 93.18s/it] \n",
            "  0% 0/11 [00:00<?, ?it/s]NN 0: 0.5270758122743683\n",
            "Regular tree 0: [0.50180505 0.51624549 0.55956679 0.53790614 0.55595668]\n",
            "  9% 1/11 [00:26<04:23, 26.38s/it]NN 1: 0.5270758122743683\n",
            "Regular tree 1: [0.54512635 0.53068592 0.53068592 0.54873646 0.54512635]\n",
            " 18% 2/11 [00:54<04:02, 26.98s/it]NN 2: 0.49097472924187724\n",
            "Regular tree 2: [0.52707581 0.57039711 0.57761733 0.55956679 0.5631769 ]\n",
            " 27% 3/11 [01:24<03:42, 27.81s/it]NN 3: 0.555956678700361\n",
            "Regular tree 3: [0.52707581 0.50902527 0.46931408 0.48375451 0.4801444 ]\n",
            " 36% 4/11 [01:52<03:15, 27.87s/it]NN 4: 0.631768953068592\n",
            "Regular tree 4: [0.60649819 0.62454874 0.63898917 0.62815884 0.63537906]\n",
            " 45% 5/11 [02:21<02:48, 28.07s/it]NN 5: 0.6787003610108303\n",
            "Regular tree 5: [0.62093863 0.66787004 0.65703971 0.66425993 0.6534296 ]\n",
            " 55% 6/11 [02:52<02:24, 28.99s/it]NN 6: 0.6931407942238267\n",
            "Regular tree 6: [0.68592058 0.70397112 0.68592058 0.68231047 0.67870036]\n",
            " 64% 7/11 [03:23<01:58, 29.68s/it]NN 7: 0.6895306859205776\n",
            "Regular tree 7: [0.67870036 0.69314079 0.67870036 0.67509025 0.67148014]\n",
            " 73% 8/11 [03:52<01:28, 29.38s/it]NN 8: 0.6931407942238267\n",
            "Regular tree 8: [0.68231047 0.67870036 0.68592058 0.67870036 0.67870036]\n",
            " 82% 9/11 [04:20<00:58, 29.08s/it]NN 9: 0.6895306859205776\n",
            "Regular tree 9: [0.6534296  0.66425993 0.66425993 0.67870036 0.67870036]\n",
            " 91% 10/11 [04:50<00:29, 29.49s/it]NN 10: 0.6895306859205776\n",
            "Regular tree 10: [0.67509025 0.67870036 0.69314079 0.68231047 0.68231047]\n",
            "100% 11/11 [05:21<00:00, 29.23s/it]\n"
          ]
        }
      ],
      "source": [
        "!python train_tree_model.py --base=\"logs/RTE_07092037_a71b2b\""
      ]
    },
    {
      "cell_type": "markdown",
      "metadata": {
        "id": "zKr-4JV6I-Yb"
      },
      "source": [
        "# CNLI"
      ]
    },
    {
      "cell_type": "code",
      "execution_count": null,
      "metadata": {
        "id": "TJhse-JXemQ_"
      },
      "outputs": [],
      "source": [
        "!python train_base_model.py --seed=\"61461\" --task=\"CNLI\" --model_path=\"roberta-large-mnli\" --tqdm"
      ]
    },
    {
      "cell_type": "code",
      "execution_count": null,
      "metadata": {
        "id": "-4ztSS-SL2ts"
      },
      "outputs": [],
      "source": [
        "!python train_tree_model.py --base=\"logs/CNLI_14081645_f78891\""
      ]
    },
    {
      "cell_type": "code",
      "execution_count": null,
      "metadata": {
        "id": "PO4qc-qzncXk"
      },
      "outputs": [],
      "source": [
        "!python train_base_model.py --seed=\"61461\" --task=\"CNLI\" --model_path=\"distilroberta-base\" --hidden_dim=768 --tqdm"
      ]
    },
    {
      "cell_type": "code",
      "execution_count": null,
      "metadata": {
        "colab": {
          "background_save": true,
          "base_uri": "https://localhost:8080/"
        },
        "id": "f89OoCw5zh9i",
        "outputId": "2671265c-6088-4d56-bf10-bdf72de594aa"
      },
      "outputs": [
        {
          "name": "stdout",
          "output_type": "stream",
          "text": [
            "  0% 0/10 [00:00<?, ?it/s]Tree 0: [0.36125 0.37875 0.4     0.3925  0.3925 ]\n",
            " 10% 1/10 [03:40<33:07, 220.83s/it]Tree 1: [0.4075  0.42125 0.44375 0.44    0.4375 ]\n",
            " 20% 2/10 [08:56<33:13, 249.24s/it]Tree 2: [0.55    0.55375 0.56625 0.58375 0.5725 ]\n",
            " 30% 3/10 [14:25<31:53, 273.29s/it]Tree 3: [0.57    0.61125 0.59125 0.58875 0.58   ]\n",
            " 40% 4/10 [20:18<29:42, 297.00s/it]Tree 4: [0.59875 0.63625 0.62125 0.61625 0.615  ]\n",
            " 50% 5/10 [26:26<26:32, 318.55s/it]Tree 5: [0.61375 0.63    0.62625 0.62375 0.62375]\n",
            " 60% 6/10 [32:59<22:43, 340.89s/it]Tree 6: [0.62375 0.62375 0.62375 0.63    0.63125]\n",
            " 70% 7/10 [39:54<18:08, 362.98s/it]Tree 7: [0.62625 0.62875 0.62125 0.625   0.6225 ]\n",
            " 80% 8/10 [47:09<12:48, 384.49s/it]Tree 8: [0.625  0.635  0.6325 0.6325 0.63  ]\n",
            " 90% 9/10 [54:51<06:47, 407.94s/it]Tree 9: [0.64375 0.64125 0.645   0.64625 0.6475 ]\n",
            "100% 10/10 [1:02:50<00:00, 377.08s/it]\n",
            "  0% 0/11 [00:00<?, ?it/s]NN 0: 0.315\n",
            "Regular tree 0: [0.365   0.385   0.3925  0.40375 0.42625]\n",
            "  9% 1/11 [03:39<36:39, 219.97s/it]NN 1: 0.3075\n",
            "Regular tree 1: [0.38625 0.41    0.4325  0.42    0.43125]\n",
            " 18% 2/11 [07:21<33:02, 220.30s/it]NN 2: 0.4725\n",
            "Regular tree 2: [0.465   0.4725  0.48125 0.48625 0.49625]\n",
            " 27% 3/11 [11:04<29:30, 221.27s/it]NN 3: 0.57625\n",
            "Regular tree 3: [0.54875 0.56375 0.57375 0.58    0.59   ]\n",
            " 36% 4/11 [14:32<25:19, 217.13s/it]NN 4: 0.595\n",
            "Regular tree 4: [0.58875 0.6025  0.6125  0.61375 0.6125 ]\n",
            " 45% 5/11 [18:00<21:27, 214.65s/it]NN 5: 0.6225\n",
            "Regular tree 5: [0.58625 0.61875 0.62375 0.6325  0.62875]\n",
            " 55% 6/11 [21:34<17:51, 214.32s/it]NN 6: 0.635\n",
            "Regular tree 6: [0.625   0.65125 0.645   0.65    0.65125]\n",
            " 64% 7/11 [25:09<14:18, 214.62s/it]NN 7: 0.63\n",
            "Regular tree 7: [0.6275  0.6375  0.6375  0.63125 0.63625]\n",
            " 73% 8/11 [28:43<10:43, 214.45s/it]NN 8: 0.63875\n",
            "Regular tree 8: [0.63625 0.63625 0.63875 0.63875 0.6375 ]\n",
            " 82% 9/11 [32:20<07:10, 215.03s/it]NN 9: 0.64\n",
            "Regular tree 9: [0.64    0.64375 0.64625 0.63875 0.6425 ]\n",
            " 91% 10/11 [35:57<03:35, 215.74s/it]NN 10: 0.63875\n",
            "Regular tree 10: [0.63375 0.63375 0.63125 0.6225  0.63625]\n",
            "100% 11/11 [39:35<00:00, 215.91s/it]\n"
          ]
        }
      ],
      "source": [
        "!python train_tree_model.py --base=\"logs/CNLI_07092107_5281d2\""
      ]
    },
    {
      "cell_type": "markdown",
      "metadata": {
        "id": "z_NTM7lRJAPl"
      },
      "source": [
        "# ANLI"
      ]
    },
    {
      "cell_type": "code",
      "execution_count": null,
      "metadata": {
        "id": "fZm7b-G4erTX"
      },
      "outputs": [],
      "source": [
        "!python train_base_model.py --seed=\"11440\" --task=\"ANLI\" --model_path=\"roberta-large-mnli\" --tqdm"
      ]
    },
    {
      "cell_type": "markdown",
      "metadata": {
        "id": "tNZfkaLRJCBi"
      },
      "source": [
        "# QNLI"
      ]
    },
    {
      "cell_type": "code",
      "execution_count": null,
      "metadata": {
        "id": "fd1pLuReeu3E"
      },
      "outputs": [],
      "source": [
        "!python train_base_model.py --seed=\"43851\" --task=\"QNLI\" --model_path=\"roberta-large-mnli\" --tqdm"
      ]
    },
    {
      "cell_type": "markdown",
      "metadata": {
        "id": "irLlTT8kL5cJ"
      },
      "source": [
        "# Save results"
      ]
    },
    {
      "cell_type": "code",
      "execution_count": null,
      "metadata": {
        "id": "lwzREOoLe094"
      },
      "outputs": [],
      "source": [
        "!cp -r logs \"/content/drive/MyDrive/Practical Work in AI/\""
      ]
    },
    {
      "cell_type": "code",
      "execution_count": null,
      "metadata": {
        "id": "i-eHxZDVLFdW"
      },
      "outputs": [],
      "source": []
    }
  ],
  "metadata": {
    "accelerator": "GPU",
    "colab": {
      "collapsed_sections": [],
      "provenance": []
    },
    "gpuClass": "standard",
    "kernelspec": {
      "display_name": "Python 3.8.10 64-bit",
      "language": "python",
      "name": "python3"
    },
    "language_info": {
      "name": "python",
      "version": "3.8.10"
    },
    "vscode": {
      "interpreter": {
        "hash": "e7370f93d1d0cde622a1f8e1c04877d8463912d04d973331ad4851f04de6915a"
      }
    }
  },
  "nbformat": 4,
  "nbformat_minor": 0
}
